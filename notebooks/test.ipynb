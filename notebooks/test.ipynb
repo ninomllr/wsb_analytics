{
 "cells": [
  {
   "cell_type": "code",
   "execution_count": 1,
   "metadata": {},
   "outputs": [],
   "source": [
    "import os\n",
    "import sys\n",
    "import socket\n",
    "import boto3\n",
    "import time\n",
    "from datetime import timedelta, datetime\n",
    "from boto3.dynamodb.conditions import Key, Attr\n",
    "import requests\n",
    "\n",
    "import sys,uuid\n",
    "from pyspark.sql import SparkSession, Row\n",
    "from pyspark import SparkConf, SparkContext\n",
    "from pyspark.sql.functions import explode\n"
   ]
  },
  {
   "cell_type": "code",
   "execution_count": 2,
   "metadata": {},
   "outputs": [
    {
     "name": "stdout",
     "output_type": "stream",
     "text": [
      "http://minio:9000\n"
     ]
    }
   ],
   "source": [
    "key = os.environ[\"MINIO_ACCESS_KEY\"]\n",
    "secret = os.environ[\"MINIO_SECRET_KEY\"]\n",
    "endpoint = \"http://minio:9000\"\n",
    "print(endpoint)"
   ]
  },
  {
   "cell_type": "code",
   "execution_count": 3,
   "metadata": {},
   "outputs": [],
   "source": [
    "spark = SparkSession.builder \\\n",
    ".master(\"local\") \\\n",
    ".appName(\"nino\") \\\n",
    ".config(\"spark.hadoop.fs.s3a.access.key\", key) \\\n",
    ".config(\"spark.hadoop.fs.s3a.secret.key\", secret) \\\n",
    ".config(\"spark.hadoop.fs.s3a.endpoint\", endpoint) \\\n",
    ".config(\"spark.hadoop.fs.s3a.path.style.access\", \"true\") \\\n",
    ".config(\"spark.hadoop.fs.s3a.impl\", \"org.apache.hadoop.fs.s3a.S3AFileSystem\") \\\n",
    ".config(\"spark.jars.packages\", \"io.delta:delta-core_2.12:0.7.0,org.apache.hadoop:hadoop-aws:3.2.0,com.amazonaws:aws-java-sdk-bundle:1.11.375\") \\\n",
    ".config(\"spark.delta.logStore.class\", \"org.apache.spark.sql.delta.storage.S3SingleDriverLogStore\") \\\n",
    ".config(\"spark.sql.extensions\", \"io.delta.sql.DeltaSparkSessionExtension\") \\\n",
    ".config(\"spark.sql.catalog.spark_catalog\", \"org.apache.spark.sql.delta.catalog.DeltaCatalog\") \\\n",
    ".config('spark.submit.deployMode', 'client') \\\n",
    ".config(\"spark.kubernetes.container.image\", \"spark:spark-docker\") \\\n",
    ".config(\"spark.kubernetes.pyspark.pythonVersion\", \"3\") \\\n",
    ".config(\"spark.kubernetes.authenticate.driver.serviceAccountName\", \"default\") \\\n",
    ".config(\"spark.executor.instances\", \"1\") \\\n",
    ".config(\"spark.hadoop.fs.s3a.connection.ssl.enabled\", \"false\") \\\n",
    ".config(\"spark.kubernetes.executor.request.cores\",\"0.5\") \\\n",
    ".config(\"spark.kubernetes.executor.limit.cores\",\"1\") \\\n",
    ".config(\"jupyterService.jupyterPort_create_prop\", \"30888\") \\\n",
    ".config(\"serviceAccount\", \"spark\") \\\n",
    ".getOrCreate()"
   ]
  },
  {
   "cell_type": "code",
   "execution_count": 4,
   "metadata": {},
   "outputs": [],
   "source": [
    "sc = spark.sparkContext"
   ]
  },
  {
   "cell_type": "markdown",
   "metadata": {},
   "source": [
    "# Create delta lake tables"
   ]
  },
  {
   "cell_type": "code",
   "execution_count": 5,
   "metadata": {},
   "outputs": [],
   "source": [
    "delta_path = \"s3a://delta/\"\n",
    "lake_path = \"s3a://lake/\"\n",
    "json_path = \"s3a://lake/wallstreetbets/\"\n",
    "output_path = \"s3a://lake/outputs/\"\n",
    "delta_table_name='wallstreetbets'\n",
    "database = 'reddit'"
   ]
  },
  {
   "cell_type": "markdown",
   "metadata": {},
   "source": [
    "# Create list of all JSON files from the last hour"
   ]
  },
  {
   "cell_type": "code",
   "execution_count": 6,
   "metadata": {},
   "outputs": [],
   "source": [
    "s3 = boto3.resource(\n",
    "            's3',\n",
    "            aws_access_key_id=key,\n",
    "            aws_secret_access_key=secret,\n",
    "            endpoint_url=endpoint,\n",
    "        )\n",
    "\n",
    "files_last_hour = []\n",
    "mybucket = s3.Bucket(\"lake\")\n",
    "# if blank prefix is given, return everything)\n",
    "bucket_prefix=\"/wallstreetbets\"\n",
    "objs = mybucket.objects.filter(\n",
    "    Prefix = bucket_prefix)\n",
    "for file in objs:\n",
    "    if ((file.last_modified).replace(tzinfo = None) > datetime.now() - timedelta(hours=1)):\n",
    "        print(file.key)\n",
    "        print(file.last_modified)\n",
    "        files_last_hour.append(lake_path+'/'+file.key)"
   ]
  },
  {
   "cell_type": "code",
   "execution_count": 96,
   "metadata": {},
   "outputs": [],
   "source": [
    "data = spark.read.json(files_last_hour)"
   ]
  },
  {
   "cell_type": "code",
   "execution_count": 97,
   "metadata": {},
   "outputs": [
    {
     "name": "stdout",
     "output_type": "stream",
     "text": [
      "root\n",
      " |-- all_awardings: array (nullable = true)\n",
      " |    |-- element: struct (containsNull = true)\n",
      " |    |    |-- award_sub_type: string (nullable = true)\n",
      " |    |    |-- award_type: string (nullable = true)\n",
      " |    |    |-- awardings_required_to_grant_benefits: long (nullable = true)\n",
      " |    |    |-- coin_price: long (nullable = true)\n",
      " |    |    |-- coin_reward: long (nullable = true)\n",
      " |    |    |-- count: long (nullable = true)\n",
      " |    |    |-- days_of_drip_extension: long (nullable = true)\n",
      " |    |    |-- days_of_premium: long (nullable = true)\n",
      " |    |    |-- description: string (nullable = true)\n",
      " |    |    |-- end_date: string (nullable = true)\n",
      " |    |    |-- giver_coin_reward: long (nullable = true)\n",
      " |    |    |-- icon_format: string (nullable = true)\n",
      " |    |    |-- icon_height: long (nullable = true)\n",
      " |    |    |-- icon_url: string (nullable = true)\n",
      " |    |    |-- icon_width: long (nullable = true)\n",
      " |    |    |-- id: string (nullable = true)\n",
      " |    |    |-- is_enabled: boolean (nullable = true)\n",
      " |    |    |-- is_new: boolean (nullable = true)\n",
      " |    |    |-- name: string (nullable = true)\n",
      " |    |    |-- penny_donate: long (nullable = true)\n",
      " |    |    |-- penny_price: long (nullable = true)\n",
      " |    |    |-- resized_icons: array (nullable = true)\n",
      " |    |    |    |-- element: struct (containsNull = true)\n",
      " |    |    |    |    |-- height: long (nullable = true)\n",
      " |    |    |    |    |-- url: string (nullable = true)\n",
      " |    |    |    |    |-- width: long (nullable = true)\n",
      " |    |    |-- resized_static_icons: array (nullable = true)\n",
      " |    |    |    |-- element: struct (containsNull = true)\n",
      " |    |    |    |    |-- height: long (nullable = true)\n",
      " |    |    |    |    |-- url: string (nullable = true)\n",
      " |    |    |    |    |-- width: long (nullable = true)\n",
      " |    |    |-- start_date: string (nullable = true)\n",
      " |    |    |-- static_icon_height: long (nullable = true)\n",
      " |    |    |-- static_icon_url: string (nullable = true)\n",
      " |    |    |-- static_icon_width: long (nullable = true)\n",
      " |    |    |-- subreddit_coin_reward: long (nullable = true)\n",
      " |    |    |-- subreddit_id: string (nullable = true)\n",
      " |    |    |-- tiers_by_required_awardings: struct (nullable = true)\n",
      " |    |    |    |-- 0: struct (nullable = true)\n",
      " |    |    |    |    |-- awardings_required: long (nullable = true)\n",
      " |    |    |    |    |-- icon: struct (nullable = true)\n",
      " |    |    |    |    |    |-- format: string (nullable = true)\n",
      " |    |    |    |    |    |-- height: long (nullable = true)\n",
      " |    |    |    |    |    |-- url: string (nullable = true)\n",
      " |    |    |    |    |    |-- width: long (nullable = true)\n",
      " |    |    |    |    |-- resized_icons: array (nullable = true)\n",
      " |    |    |    |    |    |-- element: struct (containsNull = true)\n",
      " |    |    |    |    |    |    |-- height: long (nullable = true)\n",
      " |    |    |    |    |    |    |-- url: string (nullable = true)\n",
      " |    |    |    |    |    |    |-- width: long (nullable = true)\n",
      " |    |    |    |    |-- resized_static_icons: array (nullable = true)\n",
      " |    |    |    |    |    |-- element: struct (containsNull = true)\n",
      " |    |    |    |    |    |    |-- height: long (nullable = true)\n",
      " |    |    |    |    |    |    |-- url: string (nullable = true)\n",
      " |    |    |    |    |    |    |-- width: long (nullable = true)\n",
      " |    |    |    |    |-- static_icon: struct (nullable = true)\n",
      " |    |    |    |    |    |-- format: string (nullable = true)\n",
      " |    |    |    |    |    |-- height: long (nullable = true)\n",
      " |    |    |    |    |    |-- url: string (nullable = true)\n",
      " |    |    |    |    |    |-- width: long (nullable = true)\n",
      " |    |    |    |-- 10: struct (nullable = true)\n",
      " |    |    |    |    |-- awardings_required: long (nullable = true)\n",
      " |    |    |    |    |-- icon: struct (nullable = true)\n",
      " |    |    |    |    |    |-- format: string (nullable = true)\n",
      " |    |    |    |    |    |-- height: long (nullable = true)\n",
      " |    |    |    |    |    |-- url: string (nullable = true)\n",
      " |    |    |    |    |    |-- width: long (nullable = true)\n",
      " |    |    |    |    |-- resized_icons: array (nullable = true)\n",
      " |    |    |    |    |    |-- element: struct (containsNull = true)\n",
      " |    |    |    |    |    |    |-- height: long (nullable = true)\n",
      " |    |    |    |    |    |    |-- url: string (nullable = true)\n",
      " |    |    |    |    |    |    |-- width: long (nullable = true)\n",
      " |    |    |    |    |-- resized_static_icons: array (nullable = true)\n",
      " |    |    |    |    |    |-- element: struct (containsNull = true)\n",
      " |    |    |    |    |    |    |-- height: long (nullable = true)\n",
      " |    |    |    |    |    |    |-- url: string (nullable = true)\n",
      " |    |    |    |    |    |    |-- width: long (nullable = true)\n",
      " |    |    |    |    |-- static_icon: struct (nullable = true)\n",
      " |    |    |    |    |    |-- format: string (nullable = true)\n",
      " |    |    |    |    |    |-- height: long (nullable = true)\n",
      " |    |    |    |    |    |-- url: string (nullable = true)\n",
      " |    |    |    |    |    |-- width: long (nullable = true)\n",
      " |    |    |    |-- 25: struct (nullable = true)\n",
      " |    |    |    |    |-- awardings_required: long (nullable = true)\n",
      " |    |    |    |    |-- icon: struct (nullable = true)\n",
      " |    |    |    |    |    |-- format: string (nullable = true)\n",
      " |    |    |    |    |    |-- height: long (nullable = true)\n",
      " |    |    |    |    |    |-- url: string (nullable = true)\n",
      " |    |    |    |    |    |-- width: long (nullable = true)\n",
      " |    |    |    |    |-- resized_icons: array (nullable = true)\n",
      " |    |    |    |    |    |-- element: struct (containsNull = true)\n",
      " |    |    |    |    |    |    |-- height: long (nullable = true)\n",
      " |    |    |    |    |    |    |-- url: string (nullable = true)\n",
      " |    |    |    |    |    |    |-- width: long (nullable = true)\n",
      " |    |    |    |    |-- resized_static_icons: array (nullable = true)\n",
      " |    |    |    |    |    |-- element: struct (containsNull = true)\n",
      " |    |    |    |    |    |    |-- height: long (nullable = true)\n",
      " |    |    |    |    |    |    |-- url: string (nullable = true)\n",
      " |    |    |    |    |    |    |-- width: long (nullable = true)\n",
      " |    |    |    |    |-- static_icon: struct (nullable = true)\n",
      " |    |    |    |    |    |-- format: string (nullable = true)\n",
      " |    |    |    |    |    |-- height: long (nullable = true)\n",
      " |    |    |    |    |    |-- url: string (nullable = true)\n",
      " |    |    |    |    |    |-- width: long (nullable = true)\n",
      " |    |    |    |-- 5: struct (nullable = true)\n",
      " |    |    |    |    |-- awardings_required: long (nullable = true)\n",
      " |    |    |    |    |-- icon: struct (nullable = true)\n",
      " |    |    |    |    |    |-- format: string (nullable = true)\n",
      " |    |    |    |    |    |-- height: long (nullable = true)\n",
      " |    |    |    |    |    |-- url: string (nullable = true)\n",
      " |    |    |    |    |    |-- width: long (nullable = true)\n",
      " |    |    |    |    |-- resized_icons: array (nullable = true)\n",
      " |    |    |    |    |    |-- element: struct (containsNull = true)\n",
      " |    |    |    |    |    |    |-- height: long (nullable = true)\n",
      " |    |    |    |    |    |    |-- url: string (nullable = true)\n",
      " |    |    |    |    |    |    |-- width: long (nullable = true)\n",
      " |    |    |    |    |-- resized_static_icons: array (nullable = true)\n",
      " |    |    |    |    |    |-- element: struct (containsNull = true)\n",
      " |    |    |    |    |    |    |-- height: long (nullable = true)\n",
      " |    |    |    |    |    |    |-- url: string (nullable = true)\n",
      " |    |    |    |    |    |    |-- width: long (nullable = true)\n",
      " |    |    |    |    |-- static_icon: struct (nullable = true)\n",
      " |    |    |    |    |    |-- format: string (nullable = true)\n",
      " |    |    |    |    |    |-- height: long (nullable = true)\n",
      " |    |    |    |    |    |-- url: string (nullable = true)\n",
      " |    |    |    |    |    |-- width: long (nullable = true)\n",
      " |-- allow_live_comments: boolean (nullable = true)\n",
      " |-- approved_at_utc: string (nullable = true)\n",
      " |-- approved_by: string (nullable = true)\n",
      " |-- archived: boolean (nullable = true)\n",
      " |-- author: string (nullable = true)\n",
      " |-- author_flair_background_color: string (nullable = true)\n",
      " |-- author_flair_css_class: string (nullable = true)\n",
      " |-- author_flair_richtext: array (nullable = true)\n",
      " |    |-- element: struct (containsNull = true)\n",
      " |    |    |-- e: string (nullable = true)\n",
      " |    |    |-- t: string (nullable = true)\n",
      " |-- author_flair_template_id: string (nullable = true)\n",
      " |-- author_flair_text: string (nullable = true)\n",
      " |-- author_flair_text_color: string (nullable = true)\n",
      " |-- author_flair_type: string (nullable = true)\n",
      " |-- author_fullname: string (nullable = true)\n",
      " |-- author_patreon_flair: boolean (nullable = true)\n",
      " |-- author_premium: boolean (nullable = true)\n",
      " |-- awarders: array (nullable = true)\n",
      " |    |-- element: string (containsNull = true)\n",
      " |-- banned_at_utc: string (nullable = true)\n",
      " |-- banned_by: string (nullable = true)\n",
      " |-- can_gild: boolean (nullable = true)\n",
      " |-- can_mod_post: boolean (nullable = true)\n",
      " |-- category: string (nullable = true)\n",
      " |-- clicked: boolean (nullable = true)\n",
      " |-- content_categories: string (nullable = true)\n",
      " |-- contest_mode: boolean (nullable = true)\n",
      " |-- created: double (nullable = true)\n",
      " |-- created_utc: double (nullable = true)\n",
      " |-- discussion_type: string (nullable = true)\n",
      " |-- distinguished: string (nullable = true)\n",
      " |-- domain: string (nullable = true)\n",
      " |-- downs: long (nullable = true)\n",
      " |-- edited: string (nullable = true)\n",
      " |-- gilded: long (nullable = true)\n",
      " |-- gildings: struct (nullable = true)\n",
      " |    |-- gid_1: long (nullable = true)\n",
      " |    |-- gid_2: long (nullable = true)\n",
      " |    |-- gid_3: long (nullable = true)\n",
      " |-- hidden: boolean (nullable = true)\n",
      " |-- hide_score: boolean (nullable = true)\n",
      " |-- id: string (nullable = true)\n",
      " |-- is_created_from_ads_ui: boolean (nullable = true)\n",
      " |-- is_crosspostable: boolean (nullable = true)\n",
      " |-- is_meta: boolean (nullable = true)\n",
      " |-- is_original_content: boolean (nullable = true)\n",
      " |-- is_reddit_media_domain: boolean (nullable = true)\n",
      " |-- is_robot_indexable: boolean (nullable = true)\n",
      " |-- is_self: boolean (nullable = true)\n",
      " |-- is_video: boolean (nullable = true)\n",
      " |-- likes: string (nullable = true)\n",
      " |-- link_flair_background_color: string (nullable = true)\n",
      " |-- link_flair_css_class: string (nullable = true)\n",
      " |-- link_flair_richtext: array (nullable = true)\n",
      " |    |-- element: struct (containsNull = true)\n",
      " |    |    |-- e: string (nullable = true)\n",
      " |    |    |-- t: string (nullable = true)\n",
      " |-- link_flair_template_id: string (nullable = true)\n",
      " |-- link_flair_text: string (nullable = true)\n",
      " |-- link_flair_text_color: string (nullable = true)\n",
      " |-- link_flair_type: string (nullable = true)\n",
      " |-- locked: boolean (nullable = true)\n",
      " |-- media: struct (nullable = true)\n",
      " |    |-- reddit_video: struct (nullable = true)\n",
      " |    |    |-- bitrate_kbps: long (nullable = true)\n",
      " |    |    |-- dash_url: string (nullable = true)\n",
      " |    |    |-- duration: long (nullable = true)\n",
      " |    |    |-- fallback_url: string (nullable = true)\n",
      " |    |    |-- height: long (nullable = true)\n",
      " |    |    |-- hls_url: string (nullable = true)\n",
      " |    |    |-- is_gif: boolean (nullable = true)\n",
      " |    |    |-- scrubber_media_url: string (nullable = true)\n",
      " |    |    |-- transcoding_status: string (nullable = true)\n",
      " |    |    |-- width: long (nullable = true)\n",
      " |-- media_only: boolean (nullable = true)\n",
      " |-- mod_note: string (nullable = true)\n",
      " |-- mod_reason_by: string (nullable = true)\n",
      " |-- mod_reason_title: string (nullable = true)\n",
      " |-- mod_reports: array (nullable = true)\n",
      " |    |-- element: string (containsNull = true)\n",
      " |-- name: string (nullable = true)\n",
      " |-- no_follow: boolean (nullable = true)\n",
      " |-- num_comments: long (nullable = true)\n",
      " |-- num_crossposts: long (nullable = true)\n",
      " |-- num_reports: string (nullable = true)\n",
      " |-- over_18: boolean (nullable = true)\n",
      " |-- parent_whitelist_status: string (nullable = true)\n",
      " |-- permalink: string (nullable = true)\n",
      " |-- pinned: boolean (nullable = true)\n",
      " |-- pwls: long (nullable = true)\n",
      " |-- quarantine: boolean (nullable = true)\n",
      " |-- removal_reason: string (nullable = true)\n",
      " |-- removed_by: string (nullable = true)\n",
      " |-- removed_by_category: string (nullable = true)\n",
      " |-- report_reasons: string (nullable = true)\n",
      " |-- saved: boolean (nullable = true)\n",
      " |-- score: long (nullable = true)\n",
      " |-- secure_media: struct (nullable = true)\n",
      " |    |-- reddit_video: struct (nullable = true)\n",
      " |    |    |-- bitrate_kbps: long (nullable = true)\n",
      " |    |    |-- dash_url: string (nullable = true)\n",
      " |    |    |-- duration: long (nullable = true)\n",
      " |    |    |-- fallback_url: string (nullable = true)\n",
      " |    |    |-- height: long (nullable = true)\n",
      " |    |    |-- hls_url: string (nullable = true)\n",
      " |    |    |-- is_gif: boolean (nullable = true)\n",
      " |    |    |-- scrubber_media_url: string (nullable = true)\n",
      " |    |    |-- transcoding_status: string (nullable = true)\n",
      " |    |    |-- width: long (nullable = true)\n",
      " |-- selftext: string (nullable = true)\n",
      " |-- selftext_html: string (nullable = true)\n",
      " |-- send_replies: boolean (nullable = true)\n",
      " |-- spoiler: boolean (nullable = true)\n",
      " |-- stickied: boolean (nullable = true)\n",
      " |-- subreddit: string (nullable = true)\n",
      " |-- subreddit_id: string (nullable = true)\n",
      " |-- subreddit_name_prefixed: string (nullable = true)\n",
      " |-- subreddit_subscribers: long (nullable = true)\n",
      " |-- subreddit_type: string (nullable = true)\n",
      " |-- suggested_sort: string (nullable = true)\n",
      " |-- thumbnail: string (nullable = true)\n",
      " |-- title: string (nullable = true)\n",
      " |-- top_awarded_type: string (nullable = true)\n",
      " |-- total_awards_received: long (nullable = true)\n",
      " |-- treatment_tags: array (nullable = true)\n",
      " |    |-- element: string (containsNull = true)\n",
      " |-- ups: long (nullable = true)\n",
      " |-- upvote_ratio: double (nullable = true)\n",
      " |-- url: string (nullable = true)\n",
      " |-- url_overridden_by_dest: string (nullable = true)\n",
      " |-- user_reports: array (nullable = true)\n",
      " |    |-- element: string (containsNull = true)\n",
      " |-- view_count: string (nullable = true)\n",
      " |-- visited: boolean (nullable = true)\n",
      " |-- whitelist_status: string (nullable = true)\n",
      " |-- wls: long (nullable = true)\n",
      "\n"
     ]
    }
   ],
   "source": [
    "children = data.select(\"data.*\")\n",
    "df = children.select(explode(\"children\")).select(\"col.data.*\")\n",
    "df.printSchema()"
   ]
  },
  {
   "cell_type": "code",
   "execution_count": 98,
   "metadata": {},
   "outputs": [
    {
     "name": "stdout",
     "output_type": "stream",
     "text": [
      "+--------------------+-------------------+---------------+-----------+--------+--------------------+-----------------------------+----------------------+---------------------+------------------------+--------------------+-----------------------+-----------------+---------------+--------------------+--------------+--------+-------------+---------+--------+------------+--------+-------+------------------+------------+-------------+-------------+---------------+-------------+-------------------+-----+-------------+------+------------------+------+----------+------+----------------------+----------------+-------+-------------------+----------------------+------------------+-------+--------+-----+---------------------------+--------------------+--------------------+----------------------+------------------+---------------------+---------------+------+--------------------+----------+--------+-------------+----------------+-----------+---------+---------+------------+--------------+-----------+-------+-----------------------+--------------------+------+----+----------+--------------+----------+-------------------+--------------+-----+-----+--------------------+--------------------+--------------------+------------+-------+--------+--------------+------------+-----------------------+---------------------+--------------+--------------+---------+--------------------+----------------+---------------------+--------------------+-----+------------+--------------------+----------------------+------------+----------+-------+----------------+---+\n",
      "|       all_awardings|allow_live_comments|approved_at_utc|approved_by|archived|              author|author_flair_background_color|author_flair_css_class|author_flair_richtext|author_flair_template_id|   author_flair_text|author_flair_text_color|author_flair_type|author_fullname|author_patreon_flair|author_premium|awarders|banned_at_utc|banned_by|can_gild|can_mod_post|category|clicked|content_categories|contest_mode|      created|  created_utc|discussion_type|distinguished|             domain|downs|       edited|gilded|          gildings|hidden|hide_score|    id|is_created_from_ads_ui|is_crosspostable|is_meta|is_original_content|is_reddit_media_domain|is_robot_indexable|is_self|is_video|likes|link_flair_background_color|link_flair_css_class| link_flair_richtext|link_flair_template_id|   link_flair_text|link_flair_text_color|link_flair_type|locked|               media|media_only|mod_note|mod_reason_by|mod_reason_title|mod_reports|     name|no_follow|num_comments|num_crossposts|num_reports|over_18|parent_whitelist_status|           permalink|pinned|pwls|quarantine|removal_reason|removed_by|removed_by_category|report_reasons|saved|score|        secure_media|            selftext|       selftext_html|send_replies|spoiler|stickied|     subreddit|subreddit_id|subreddit_name_prefixed|subreddit_subscribers|subreddit_type|suggested_sort|thumbnail|               title|top_awarded_type|total_awards_received|      treatment_tags|  ups|upvote_ratio|                 url|url_overridden_by_dest|user_reports|view_count|visited|whitelist_status|wls|\n",
      "+--------------------+-------------------+---------------+-----------+--------+--------------------+-----------------------------+----------------------+---------------------+------------------------+--------------------+-----------------------+-----------------+---------------+--------------------+--------------+--------+-------------+---------+--------+------------+--------+-------+------------------+------------+-------------+-------------+---------------+-------------+-------------------+-----+-------------+------+------------------+------+----------+------+----------------------+----------------+-------+-------------------+----------------------+------------------+-------+--------+-----+---------------------------+--------------------+--------------------+----------------------+------------------+---------------------+---------------+------+--------------------+----------+--------+-------------+----------------+-----------+---------+---------+------------+--------------+-----------+-------+-----------------------+--------------------+------+----+----------+--------------+----------+-------------------+--------------+-----+-----+--------------------+--------------------+--------------------+------------+-------+--------+--------------+------------+-----------------------+---------------------+--------------+--------------+---------+--------------------+----------------+---------------------+--------------------+-----+------------+--------------------+----------------------+------------+----------+-------+----------------+---+\n",
      "|[{GLOBAL, global,...|               true|           null|       null|   false|OPINION_IS_UNPOPULAR|                             |                  null| [{text, top notch...|                    null|top notch guava f...|                   dark|         richtext|       t2_bd6q5|               false|          true|      []|         null|     null|   false|       false|    null|  false|              null|       false|1.623175214E9|1.623146414E9|           null|         null|self.wallstreetbets|    0|1.623153537E9|     1|     {10, 1, null}| false|     false|nv1518|                 false|           false|  false|              false|                 false|              true|   true|   false| null|                    #ffd635|               daily|[{text, Daily Dis...|  7a32c644-8394-11e...|  Daily Discussion|                 dark|       richtext| false|                null|     false|    null|         null|            null|         []|t3_nv1518|    false|       25308|             2|       null|  false|               some_ads|/r/wallstreetbets...| false|   7|     false|          null|      null|               null|          null|false| 1293|                null|Today's [Popular ...|&lt;!-- SC_OFF --...|       false|  false|    true|wallstreetbets|    t5_2th52|       r/wallstreetbets|             10406101|        public|           new|         |Daily Discussion ...|            null|                   33|                  []| 1293|        0.92|https://www.reddi...|                  null|          []|      null|  false|        some_ads|  7|\n",
      "|[{PREMIUM, global...|               true|           null|       null|   false|OPINION_IS_UNPOPULAR|                             |                  null| [{text, top notch...|                    null|top notch guava f...|                   dark|         richtext|       t2_bd6q5|               false|          true|      []|         null|     null|   false|       false|    null|  false|              null|       false|1.623179279E9|1.623150479E9|           null|         null|self.wallstreetbets|    0|1.623159128E9|     0|   {9, null, null}| false|     false|nv1ig9|                 false|           false|  false|              false|                 false|              true|   true|   false| null|                           |                null|                  []|                  null|              null|                 dark|           text| false|                null|     false|    null|         null|            null|         []|t3_nv1ig9|    false|       19340|             2|       null|  false|               some_ads|/r/wallstreetbets...| false|   7|     false|          null|      null|               null|          null|false| 2635|                null|Holy moly, guacam...|&lt;!-- SC_OFF --...|       false|  false|    true|wallstreetbets|    t5_2th52|       r/wallstreetbets|             10406101|        public|           new|         |Daily Popular Tic...|            null|                   59|                  []| 2635|        0.77|https://www.reddi...|                  null|          []|      null|  false|        some_ads|  7|\n",
      "|[{PREMIUM, global...|               true|           null|       null|   false|        Deanothedino|                             |                  null| [{text, Inspirati...|                    null|Inspirational Kar...|                   dark|         richtext|      t2_2dvsy9|               false|          true|      []|         null|     null|   false|       false|    null|  false|              null|       false| 1.62317929E9| 1.62315049E9|           null|         null|          v.redd.it|    0|        false|     1|     {31, 1, null}| false|     false|nv1ijl|                 false|           false|  false|              false|                  true|              true|  false|    true| null|                    #014980|                meme|      [{text, Meme}]|  0513bea8-4f64-11e...|              Meme|                light|       richtext| false|{{800, https://v....|     false|    null|         null|            null|         []|t3_nv1ijl|    false|         552|             5|       null|  false|               some_ads|/r/wallstreetbets...| false|   7|     false|          null|      null|               null|          null|false|13342|{{800, https://v....|                    |                null|        true|  false|   false|wallstreetbets|    t5_2th52|       r/wallstreetbets|             10406101|        public|    confidence|         |How it felt buyin...|            null|                  109|                  []|13342|        0.89|https://v.redd.it...|  https://v.redd.it...|          []|      null|  false|        some_ads|  7|\n",
      "|[{PREMIUM, global...|               true|           null|       null|   false| TheProdigalMaverick|                         null|                  null|                   []|                    null|                null|                   null|             text|    t2_5zl48t04|               false|          true|      []|         null|     null|   false|       false|    null|  false|              null|       false|1.623186087E9|1.623157287E9|           null|         null|self.wallstreetbets|    0|1.623172894E9|     1|      {7, 1, null}| false|     false|nv3ib3|                 false|           false|  false|              false|                 false|              true|   true|   false| null|                    #800080|            question|[{text, Discussion}]|  96f6c79e-b853-11e...|        Discussion|                light|       richtext| false|                null|     false|    null|         null|            null|         []|t3_nv3ib3|    false|         958|             1|       null|  false|               some_ads|/r/wallstreetbets...| false|   7|     false|          null|      null|               null|          null|false| 5091|                null|Having a hundred ...|&lt;!-- SC_OFF --...|        true|  false|   false|wallstreetbets|    t5_2th52|       r/wallstreetbets|             10406101|        public|    confidence|         |We Need Separate ...|            null|                   37|                  []| 5091|        0.88|https://www.reddi...|                  null|          []|      null|  false|        some_ads|  7|\n",
      "|[{PREMIUM, global...|               true|           null|       null|   false|             BSCKing|                         null|                  null|                   []|                    null|                null|                   null|             text|    t2_bxtynt9p|               false|         false|      []|         null|     null|   false|       false|    null|  false|              null|       false|1.623188009E9|1.623159209E9|           null|         null|          i.redd.it|    0|        false|     0|   {5, null, null}| false|     false|nv44h8|                 false|           false|  false|              false|                  true|              true|  false|   false| null|                    #349e48|              profit|      [{text, Gain}]|  6bd9394c-0a95-11e...|              Gain|                light|       richtext| false|                null|     false|    null|         null|            null|         []|t3_nv44h8|    false|         583|             0|       null|  false|               some_ads|/r/wallstreetbets...| false|   7|     false|          null|      null|               null|          null|false| 2727|                null|                    |                null|        true|  false|   false|wallstreetbets|    t5_2th52|       r/wallstreetbets|             10406101|        public|    confidence|         |Holy shit guys I ...|            null|                   20|                  []| 2727|        0.83|https://i.redd.it...|  https://i.redd.it...|          []|      null|  false|        some_ads|  7|\n",
      "|[{GLOBAL, global,...|               true|           null|       null|   false|     Michael_Therami|                         null|                  null|                   []|                    null|                null|                   null|             text|    t2_6glfltgz|               false|          true|      []|         null|     null|   false|       false|    null|  false|              null|       false|1.623189658E9|1.623160858E9|           null|         null|          v.redd.it|    0|        false|     0|   {2, null, null}| false|     false|nv4oxy|                 false|           false|  false|              false|                  true|              true|  false|    true| null|                    #014980|                meme|      [{text, Meme}]|  0513bea8-4f64-11e...|              Meme|                light|       richtext| false|{{4800, https://v...|     false|    null|         null|            null|         []|t3_nv4oxy|    false|         124|             1|       null|  false|               some_ads|/r/wallstreetbets...| false|   7|     false|          null|      null|               null|          null|false| 2150|{{4800, https://v...|                    |                null|        true|  false|   false|wallstreetbets|    t5_2th52|       r/wallstreetbets|             10406101|        public|    confidence|         |Crayon-eating ret...|            null|                    6|                  []| 2150|        0.96|https://v.redd.it...|  https://v.redd.it...|          []|      null|  false|        some_ads|  7|\n",
      "|[{PREMIUM, global...|               true|           null|       null|   false|        yoloallinbro|                         null|                  null|                   []|                    null|                null|                   null|             text|    t2_3gv3df75|               false|          true|      []|         null|     null|   false|       false|    null|  false|              null|       false|1.623188727E9|1.623159927E9|           null|         null|          i.redd.it|    0|        false|     1|      {4, 1, null}| false|     false|nv4d7u|                 false|           false|  false|              false|                  true|              true|  false|   false| null|                    #0392cf|                yolo|      [{text, YOLO}]|  da18a43a-83c5-11e...|              YOLO|                light|       richtext| false|                null|     false|    null|         null|            null|         []|t3_nv4d7u|    false|         813|             4|       null|  false|               some_ads|/r/wallstreetbets...| false|   7|     false|          null|      null|               null|          null|false| 1830|                null|                    |                null|        true|  false|   false|wallstreetbets|    t5_2th52|       r/wallstreetbets|             10406101|        public|    confidence|         |$WISH 250K YOLO. ...|            null|                   44|                  []| 1830|        0.82|https://i.redd.it...|  https://i.redd.it...|          []|      null|  false|        some_ads|  7|\n",
      "|[{PREMIUM, global...|               true|           null|       null|   false|             knappis|                         null|                  null|                   []|                    null|                null|                   null|             text|       t2_72tby|               false|         false|      []|         null|     null|   false|       false|    null|  false|              null|       false|1.623184498E9|1.623155698E9|           null|         null|self.wallstreetbets|    0|1.623157262E9|     0|   {3, null, null}| false|     false|nv30za|                 false|           false|  false|              false|                 false|              true|   true|   false| null|                    #800080|            question|[{text, Discussion}]|  96f6c79e-b853-11e...|        Discussion|                light|       richtext| false|                null|     false|    null|         null|            null|         []|t3_nv30za|    false|         744|             0|       null|  false|               some_ads|/r/wallstreetbets...| false|   7|     false|          null|      null|               null|          null|false| 1998|                null|https://www.nasda...|&lt;!-- SC_OFF --...|        true|  false|   false|wallstreetbets|    t5_2th52|       r/wallstreetbets|             10406101|        public|    confidence|         |$CLOV pre market ...|            null|                   17|                  []| 1998|        0.85|https://www.reddi...|                  null|          []|      null|  false|        some_ads|  7|\n",
      "|[{GLOBAL, global,...|               true|           null|       null|   false|        Doktarbuddha|                         null|                  null|                   []|                    null|                null|                   null|             text|    t2_13ei5riv|               false|          true|      []|         null|     null|   false|       false|    null|  false|              null|       false|1.623184851E9|1.623156051E9|           null|         null|          v.redd.it|    0|        false|     0|   {6, null, null}| false|     false|nv34md|                 false|           false|  false|              false|                  true|              true|  false|    true| null|                    #014980|                meme|      [{text, Meme}]|  0513bea8-4f64-11e...|              Meme|                light|       richtext| false|{{2400, https://v...|     false|    null|         null|            null|         []|t3_nv34md|    false|         209|             1|       null|  false|               some_ads|/r/wallstreetbets...| false|   7|     false|          null|      null|               null|          null|false| 1444|{{2400, https://v...|                    |                null|        true|  false|   false|wallstreetbets|    t5_2th52|       r/wallstreetbets|             10406101|        public|    confidence|         |$CLNE to the mooo...|            null|                   12|                  []| 1444|        0.84|https://v.redd.it...|  https://v.redd.it...|          []|      null|  false|        some_ads|  7|\n",
      "|[{GLOBAL, global,...|               true|           null|       null|   false|             Divingb|                         null|                  null|                   []|                    null|                null|                   null|             text|    t2_9rizh7aq|               false|         false|      []|         null|     null|   false|       false|    null|  false|              null|       false|1.623196544E9|1.623167744E9|           null|         null|          i.redd.it|    0|        false|     0|   {2, null, null}| false|     false|nv7dkg|                 false|           false|  false|              false|                  true|              true|  false|   false| null|                    #0392cf|                yolo|      [{text, YOLO}]|  da18a43a-83c5-11e...|              YOLO|                light|       richtext| false|                null|     false|    null|         null|            null|         []|t3_nv7dkg|    false|         236|             0|       null|  false|               some_ads|/r/wallstreetbets...| false|   7|     false|          null|      null|               null|          null|false|  878|                null|                    |                null|        true|  false|   false|wallstreetbets|    t5_2th52|       r/wallstreetbets|             10406101|        public|    confidence|         |$WISH 100k YOLO o...|            null|                   11|[econ:render:lott...|  878|        0.83|https://i.redd.it...|  https://i.redd.it...|          []|      null|  false|        some_ads|  7|\n",
      "|[{GLOBAL, global,...|               true|           null|       null|   false|           s_nolan76|                         null|                  null|                   []|                    null|                null|                   null|             text|    t2_bp0rvjfy|               false|          true|      []|         null|     null|   false|       false|    null|  false|              null|       false|1.623185593E9|1.623156793E9|           null|         null|          v.redd.it|    0|        false|     0|   {1, null, null}| false|     false|nv3cmc|                 false|           false|  false|              false|                  true|              true|  false|    true| null|                    #014980|                meme|      [{text, Meme}]|  0513bea8-4f64-11e...|              Meme|                light|       richtext| false|{{4800, https://v...|     false|    null|         null|            null|         []|t3_nv3cmc|    false|         201|             2|       null|  false|               some_ads|/r/wallstreetbets...| false|   7|     false|          null|      null|               null|          null|false|  956|{{4800, https://v...|                    |                null|       false|  false|   false|wallstreetbets|    t5_2th52|       r/wallstreetbets|             10406101|        public|    confidence|         |$CLNE Primed for ...|            null|                    3|                  []|  956|        0.79|https://v.redd.it...|  https://v.redd.it...|          []|      null|  false|        some_ads|  7|\n",
      "|[{PREMIUM, global...|               true|           null|       null|   false|               dliu1|                         null|                  null|                   []|                    null|                null|                   null|             text|    t2_4vm28vw5|               false|         false|      []|         null|     null|   false|       false|    null|  false|              null|       false|1.623186584E9|1.623157784E9|           null|         null|self.wallstreetbets|    0|        false|     0|   {1, null, null}| false|     false|nv3nwi|                 false|           false|  false|              false|                 false|              true|   true|   false| null|                    #800080|            question|[{text, Discussion}]|  96f6c79e-b853-11e...|        Discussion|                light|       richtext| false|                null|     false|    null|         null|            null|         []|t3_nv3nwi|    false|         233|             0|       null|  false|               some_ads|/r/wallstreetbets...| false|   7|     false|          null|      null|               null|          null|false|  826|                null|THE MODS REMOVED ...|&lt;!-- SC_OFF --...|        true|  false|   false|wallstreetbets|    t5_2th52|       r/wallstreetbets|             10406101|        public|    confidence|         |CLOV Short Seller...|            null|                   12|                  []|  826|         0.8|https://www.reddi...|                  null|          []|      null|  false|        some_ads|  7|\n",
      "|[{GLOBAL, global,...|               true|           null|       null|   false|        wookiebandit|                         null|                  null|                   []|                    null|                null|                   null|             text|     t2_8asnmmu|               false|         false|      []|         null|     null|   false|       false|    null|  false|              null|       false|1.623188741E9|1.623159941E9|           null|         null|          i.redd.it|    0|        false|     0|   {1, null, null}| false|     false|nv4de1|                 false|           false|  false|              false|                  true|              true|  false|   false| null|                    #ff4500|               chart|[{text, Technical...|  e7bce9ea-4b49-11e...|Technical Analysis|                light|       richtext| false|                null|     false|    null|         null|            null|         []|t3_nv4de1|    false|          52|             0|       null|  false|               some_ads|/r/wallstreetbets...| false|   7|     false|          null|      null|               null|          null|false|  655|                null|                    |                null|        true|  false|   false|wallstreetbets|    t5_2th52|       r/wallstreetbets|             10406101|        public|    confidence|         |Spotted! | Big di...|            null|                    4|                  []|  655|        0.94|https://i.redd.it...|  https://i.redd.it...|          []|      null|  false|        some_ads|  7|\n",
      "|[{PREMIUM, global...|               true|           null|       null|   false|           TMoney127|                         null|                  null|                   []|                    null|                null|                   null|             text|      t2_13dlkd|               false|          true|      []|         null|     null|   false|       false|    null|  false|              null|       false|1.623193967E9|1.623165167E9|           null|         null|self.wallstreetbets|    0|        false|     0|      {1, null, 1}| false|     false|nv698g|                 false|           false|  false|              false|                 false|              true|   true|   false| null|                    #365b8c|                  dd|        [{text, DD}]|  5692ce02-b860-11e...|                DD|                light|       richtext| false|                null|     false|    null|         null|            null|         []|t3_nv698g|    false|         122|             0|       null|  false|               some_ads|/r/wallstreetbets...| false|   7|     false|          null|      null|               null|          null|false|  481|                null|**OK APES IT'S BE...|&lt;!-- SC_OFF --...|        true|  false|   false|wallstreetbets|    t5_2th52|       r/wallstreetbets|             10406101|        public|    confidence|         |Cow Farts Go BRRR...|            null|                   14|                  []|  481|         0.8|https://www.reddi...|                  null|          []|      null|  false|        some_ads|  7|\n",
      "|[{GLOBAL, global,...|               true|           null|       null|   false| Ecstatic_Style_1147|                         null|                  null|                   []|                    null|                null|                   null|             text|    t2_9aux1yp8|               false|          true|      []|         null|     null|   false|       false|    null|  false|              null|       false|1.623190113E9|1.623161313E9|           null|         null|          i.redd.it|    0|        false|     0|{null, null, null}| false|     false|nv4uro|                 false|           false|  false|              false|                  true|              true|  false|   false| null|                    #349e48|              profit|      [{text, Gain}]|  6bd9394c-0a95-11e...|              Gain|                light|       richtext| false|                null|     false|    null|         null|            null|         []|t3_nv4uro|    false|          73|             0|       null|  false|               some_ads|/r/wallstreetbets...| false|   7|     false|          null|      null|               null|          null|false|  665|                null|                    |                null|        true|  false|   false|wallstreetbets|    t5_2th52|       r/wallstreetbets|             10406101|        public|    confidence|         |$BB 🚀🚀 I LIKE T...|            null|                    1|                  []|  665|         0.8|https://i.redd.it...|  https://i.redd.it...|          []|      null|  false|        some_ads|  7|\n",
      "|[{GLOBAL, global,...|               true|           null|       null|   false|           New_Faces|                         null|                  null|                   []|                    null|                null|                   null|             text|    t2_93vjxoao|               false|          true|      []|         null|     null|   false|       false|    null|  false|              null|       false|1.623187338E9|1.623158538E9|           null|         null|self.wallstreetbets|    0|        false|     0|   {1, null, null}| false|     false|nv3wih|                 false|           false|  false|              false|                 false|              true|   true|   false| null|                    #800080|            question|[{text, Discussion}]|  96f6c79e-b853-11e...|        Discussion|                light|       richtext| false|                null|     false|    null|         null|            null|         []|t3_nv3wih|    false|         187|             0|       null|  false|               some_ads|/r/wallstreetbets...| false|   7|     false|          null|      null|               null|          null|false|  681|                null|It's no secret, w...|&lt;!-- SC_OFF --...|        true|  false|   false|wallstreetbets|    t5_2th52|       r/wallstreetbets|             10406101|        public|    confidence|         |$BB The Boomer Th...|            null|                    5|                  []|  681|         0.8|https://www.reddi...|                  null|          []|      null|  false|        some_ads|  7|\n",
      "|[{GLOBAL, global,...|               true|           null|       null|   false|            theoremx|                         null|                  null|                   []|                    null|                null|                   null|             text|       t2_bhrxy|               false|          true|      []|         null|     null|   false|       false|    null|  false|              null|       false|1.623196482E9|1.623167682E9|           null|         null|          i.redd.it|    0|        false|     1|      {2, 1, null}| false|     false|nv7c97|                 false|           false|  false|              false|                  true|              true|  false|   false| null|                    #349e48|              profit|      [{text, Gain}]|  6bd9394c-0a95-11e...|              Gain|                light|       richtext| false|                null|     false|    null|         null|            null|         []|t3_nv7c97|    false|          87|             0|       null|  false|               some_ads|/r/wallstreetbets...| false|   7|     false|          null|      null|               null|          null|false|  394|                null|                    |                null|        true|  false|   false|wallstreetbets|    t5_2th52|       r/wallstreetbets|             10406101|        public|    confidence|         |$CLOV YOLO BAG HO...|            null|                    6|                  []|  394|        0.79|https://i.redd.it...|  https://i.redd.it...|          []|      null|  false|        some_ads|  7|\n",
      "|[{GLOBAL, global,...|               true|           null|       null|   false|     Best_ST_Careers|                         null|                  null|                   []|                    null|                null|                   null|             text|     t2_yxx3rez|               false|         false|      []|         null|     null|   false|       false|    null|  false|              null|       false|1.623189254E9|1.623160454E9|           null|         null|          i.redd.it|    0|        false|     0|{null, null, null}| false|     false|nv4js4|                 false|           false|  false|              false|                  true|              true|  false|   false| null|                    #0392cf|                yolo|      [{text, YOLO}]|  da18a43a-83c5-11e...|              YOLO|                light|       richtext| false|                null|     false|    null|         null|            null|         []|t3_nv4js4|    false|          53|             0|       null|  false|               some_ads|/r/wallstreetbets...| false|   7|     false|          null|      null|               null|          null|false|  451|                null|                    |                null|        true|  false|   false|wallstreetbets|    t5_2th52|       r/wallstreetbets|             10406101|        public|    confidence|         |Because I’m a BBe...|            null|                    1|                  []|  451|        0.81|https://i.redd.it...|  https://i.redd.it...|          []|      null|  false|        some_ads|  7|\n",
      "|[{PREMIUM, global...|               true|           null|       null|   false| Isthiswittyenough92|                             |                      |         [{text, no}]|                    null|                  no|                   dark|         richtext|    t2_22q477dc|               false|          true|      []|         null|     null|   false|       false|    null|  false|              null|       false|1.623190998E9|1.623162198E9|           null|         null|self.wallstreetbets|    0|        false|     0|   {1, null, null}| false|     false|nv56qo|                 false|           false|  false|              false|                 false|              true|   true|   false| null|                    #800080|            question|[{text, Discussion}]|  96f6c79e-b853-11e...|        Discussion|                light|       richtext| false|                null|     false|    null|         null|            null|         []|t3_nv56qo|    false|         107|             0|       null|  false|               some_ads|/r/wallstreetbets...| false|   7|     false|          null|      null|               null|          null|false|  370|                null|None of these fac...|&lt;!-- SC_OFF --...|        true|  false|   false|wallstreetbets|    t5_2th52|       r/wallstreetbets|             10406101|        public|    confidence|         |Remember: Nothing...|            null|                   11|                  []|  370|        0.83|https://www.reddi...|                  null|          []|      null|  false|        some_ads|  7|\n",
      "|                  []|              false|           null|       null|   false|   Hookers-n-options|                             |                  null|                   []|                    null|                    |                       |             text|    t2_6ztaits1|               false|         false|      []|         null|     null|   false|       false|    null|  false|              null|       false|1.623191732E9|1.623162932E9|           null|         null|          i.redd.it|    0|        false|     0|{null, null, null}| false|     false|nv5gs3|                 false|           false|  false|              false|                  true|              true|  false|   false| null|                    #349e48|              profit|      [{text, Gain}]|  6bd9394c-0a95-11e...|              Gain|                light|       richtext| false|                null|     false|    null|         null|            null|         []|t3_nv5gs3|    false|          79|             0|       null|  false|               some_ads|/r/wallstreetbets...| false|   7|     false|          null|      null|               null|          null|false|  353|                null|                    |                null|        true|  false|   false|wallstreetbets|    t5_2th52|       r/wallstreetbets|             10406101|        public|    confidence|         |My current $3.7 m...|            null|                    0|                  []|  353|        0.93|https://i.redd.it...|  https://i.redd.it...|          []|      null|  false|        some_ads|  7|\n",
      "+--------------------+-------------------+---------------+-----------+--------+--------------------+-----------------------------+----------------------+---------------------+------------------------+--------------------+-----------------------+-----------------+---------------+--------------------+--------------+--------+-------------+---------+--------+------------+--------+-------+------------------+------------+-------------+-------------+---------------+-------------+-------------------+-----+-------------+------+------------------+------+----------+------+----------------------+----------------+-------+-------------------+----------------------+------------------+-------+--------+-----+---------------------------+--------------------+--------------------+----------------------+------------------+---------------------+---------------+------+--------------------+----------+--------+-------------+----------------+-----------+---------+---------+------------+--------------+-----------+-------+-----------------------+--------------------+------+----+----------+--------------+----------+-------------------+--------------+-----+-----+--------------------+--------------------+--------------------+------------+-------+--------+--------------+------------+-----------------------+---------------------+--------------+--------------+---------+--------------------+----------------+---------------------+--------------------+-----+------------+--------------------+----------------------+------------+----------+-------+----------------+---+\n",
      "only showing top 20 rows\n",
      "\n"
     ]
    }
   ],
   "source": [
    "df.show()\n"
   ]
  },
  {
   "cell_type": "code",
   "execution_count": 99,
   "metadata": {},
   "outputs": [],
   "source": [
    "df.write \\\n",
    "    .format(\"delta\") \\\n",
    "    .mode('overwrite')  \\\n",
    "    .option(\"mergeSchema\", True) \\\n",
    "    .save(delta_path)"
   ]
  },
  {
   "cell_type": "code",
   "execution_count": 100,
   "metadata": {},
   "outputs": [
    {
     "data": {
      "text/plain": [
       "DataFrame[]"
      ]
     },
     "execution_count": 100,
     "metadata": {},
     "output_type": "execute_result"
    }
   ],
   "source": [
    "spark.sql(\n",
    "        \"CREATE DATABASE IF NOT EXISTS {}\".format(database)\n",
    "    )\n",
    "\n",
    "\n",
    "spark.sql(\n",
    "        \"\"\"\n",
    "        CREATE TABLE IF NOT EXISTS {}.{}\n",
    "        USING DELTA\n",
    "        LOCATION \"{}\"\n",
    "        \"\"\".format(\n",
    "            database, delta_table_name, delta_path\n",
    "        )\n",
    "    )"
   ]
  },
  {
   "cell_type": "markdown",
   "metadata": {},
   "source": [
    "# Query delta lake format"
   ]
  },
  {
   "cell_type": "code",
   "execution_count": 101,
   "metadata": {},
   "outputs": [
    {
     "name": "stdout",
     "output_type": "stream",
     "text": [
      "+--------------------+--------------------+-------+\n",
      "|            col_name|           data_type|comment|\n",
      "+--------------------+--------------------+-------+\n",
      "|       all_awardings|array<struct<awar...|       |\n",
      "| allow_live_comments|             boolean|       |\n",
      "|     approved_at_utc|              string|       |\n",
      "|         approved_by|              string|       |\n",
      "|            archived|             boolean|       |\n",
      "|              author|              string|       |\n",
      "|author_flair_back...|              string|       |\n",
      "|author_flair_css_...|              string|       |\n",
      "|author_flair_rich...|array<struct<e:st...|       |\n",
      "|author_flair_temp...|              string|       |\n",
      "|   author_flair_text|              string|       |\n",
      "|author_flair_text...|              string|       |\n",
      "|   author_flair_type|              string|       |\n",
      "|     author_fullname|              string|       |\n",
      "|author_patreon_flair|             boolean|       |\n",
      "|      author_premium|             boolean|       |\n",
      "|            awarders|       array<string>|       |\n",
      "|       banned_at_utc|              string|       |\n",
      "|           banned_by|              string|       |\n",
      "|            can_gild|             boolean|       |\n",
      "+--------------------+--------------------+-------+\n",
      "only showing top 20 rows\n",
      "\n"
     ]
    }
   ],
   "source": [
    "spark.sql(\"DESCRIBE FORMATTED delta.`{}`\".format(delta_path)).show()"
   ]
  },
  {
   "cell_type": "markdown",
   "metadata": {},
   "source": [
    "# Reading data from the CSV"
   ]
  },
  {
   "cell_type": "code",
   "execution_count": 102,
   "metadata": {
    "scrolled": true
   },
   "outputs": [
    {
     "name": "stdout",
     "output_type": "stream",
     "text": [
      "+--------------------+--------------------+--------------------+--------------------+\n",
      "|           timestamp|               title|            selftext|                 url|\n",
      "+--------------------+--------------------+--------------------+--------------------+\n",
      "|2021-06-08 18:21:...|Whether it be sni...|                    |https://i.redd.it...|\n",
      "|2021-06-08 18:21:...|$WISH 250K YOLO. ...|                    |https://i.redd.it...|\n",
      "|2021-06-08 18:21:...|$CLNE to the mooo...|                    |https://v.redd.it...|\n",
      "|2021-06-08 18:21:...|$CLOV - Your Luck...|Dear all baboons ...|https://www.reddi...|\n",
      "|2021-06-08 18:21:...|Because I’m a BBe...|                    |https://i.redd.it...|\n",
      "|2021-06-08 18:21:...|$BB The Boomer Th...|It's no secret, w...|https://www.reddi...|\n",
      "|2021-06-08 18:21:...|Cow Farts Go BRRR...|**OK APES IT'S BE...|https://www.reddi...|\n",
      "|2021-06-08 18:21:...|Holy shit guys I ...|                    |https://i.redd.it...|\n",
      "|2021-06-08 18:21:...|$WISH it to the M...|                    |https://i.redd.it...|\n",
      "|2021-06-08 18:21:...|We Need Separate ...|Having a hundred ...|https://www.reddi...|\n",
      "|2021-06-08 18:21:...|Crayon-eating ret...|                    |https://v.redd.it...|\n",
      "|2021-06-08 18:21:...|Bought some more ...|                    |https://i.redd.it...|\n",
      "|2021-06-08 18:21:...|How it felt buyin...|                    |https://v.redd.it...|\n",
      "|2021-06-08 18:21:...|$CLOV YOLO BAG HO...|                    |https://i.redd.it...|\n",
      "|2021-06-08 18:21:...|CLOV + 39% . This...|                    |https://i.redd.it...|\n",
      "|2021-06-08 18:21:...|$WISH 100k YOLO o...|                    |https://i.redd.it...|\n",
      "|2021-06-08 18:21:...|Daily Popular Tic...|Holy moly, guacam...|https://www.reddi...|\n",
      "|2021-06-08 18:21:...|BB yolo , strap o...|                    |https://i.redd.it...|\n",
      "|2021-06-08 18:21:...|GME to the moon🚀...|                    |https://i.redd.it...|\n",
      "|2021-06-08 18:21:...|My current $3.7 m...|                    |https://i.redd.it...|\n",
      "+--------------------+--------------------+--------------------+--------------------+\n",
      "only showing top 20 rows\n",
      "\n"
     ]
    }
   ],
   "source": [
    "output_df=spark.sql(\"select distinct CURRENT_TIMESTAMP as timestamp, title, selftext, url from delta.`{}`\".format(delta_path)).distinct()\n",
    "output_df.show()\n",
    "output_df.write.mode('overwrite').json(output_path)"
   ]
  },
  {
   "cell_type": "code",
   "execution_count": 103,
   "metadata": {},
   "outputs": [
    {
     "name": "stdout",
     "output_type": "stream",
     "text": [
      "+--------+\n",
      "|count(1)|\n",
      "+--------+\n",
      "|     270|\n",
      "+--------+\n",
      "\n"
     ]
    }
   ],
   "source": [
    "spark.sql(\"select distinct count(*) from delta.`{}`\".format(delta_path)).show()"
   ]
  },
  {
   "cell_type": "code",
   "execution_count": 104,
   "metadata": {},
   "outputs": [
    {
     "data": {
      "text/plain": [
       "28"
      ]
     },
     "execution_count": 104,
     "metadata": {},
     "output_type": "execute_result"
    }
   ],
   "source": [
    "output_df.count()"
   ]
  },
  {
   "cell_type": "markdown",
   "metadata": {},
   "source": [
    "# Ingest to Druid"
   ]
  },
  {
   "cell_type": "code",
   "execution_count": 105,
   "metadata": {},
   "outputs": [],
   "source": [
    "headers = {'Content-type': 'application/json'}\n",
    "\n",
    "ingest_spec = {\n",
    "  \"type\": \"index_parallel\",\n",
    "  \"spec\": {\n",
    "    \"ioConfig\": {\n",
    "      \"type\": \"index_parallel\",\n",
    "      \"inputSource\": {\n",
    "        \"type\": \"s3\",\n",
    "        \"prefixes\": [\n",
    "          \"s3://lake/outputs\"\n",
    "        ]\n",
    "      },\n",
    "      \"inputFormat\": {\n",
    "        \"type\": \"json\"\n",
    "      },\n",
    "      \"appendToExisting\": \"true\"\n",
    "    },\n",
    "    \"tuningConfig\": {\n",
    "      \"type\": \"index_parallel\",\n",
    "      \"partitionsSpec\": {\n",
    "        \"type\": \"dynamic\"\n",
    "      }\n",
    "    },\n",
    "    \"dataSchema\": {\n",
    "      \"dataSource\": \"wallstreetbets\",\n",
    "      \"timestampSpec\": {\n",
    "        \"column\": \"timestamp\",\n",
    "        \"format\": \"iso\"\n",
    "      },\n",
    "      \"dimensionsSpec\": {\n",
    "        \"dimensions\": [\n",
    "          \"selftext\",\n",
    "          \"title\",\n",
    "          \"url\"\n",
    "        ]\n",
    "      },\n",
    "      \"granularitySpec\": {\n",
    "        \"queryGranularity\": \"none\",\n",
    "        \"rollup\": \"false\",\n",
    "        \"segmentGranularity\": \"hour\"\n",
    "      }\n",
    "    }\n",
    "  }\n",
    "}"
   ]
  },
  {
   "cell_type": "code",
   "execution_count": 106,
   "metadata": {},
   "outputs": [
    {
     "data": {
      "text/plain": [
       "200"
      ]
     },
     "execution_count": 106,
     "metadata": {},
     "output_type": "execute_result"
    }
   ],
   "source": [
    "session = requests.Session()\n",
    "\n",
    "router = 'http://router:8888'\n",
    "api_url = 'druid/indexer/v1/task'\n",
    "\n",
    "druid_task_api = (\n",
    "            router\n",
    "            + '/'\n",
    "            + api_url\n",
    "        )\n",
    "\n",
    "r = session.post(\n",
    "            druid_task_api, data=json.dumps(ingest_spec), headers=headers, verify=False\n",
    "        )\n",
    "r.status_code"
   ]
  },
  {
   "cell_type": "code",
   "execution_count": null,
   "metadata": {},
   "outputs": [],
   "source": []
  },
  {
   "cell_type": "code",
   "execution_count": null,
   "metadata": {},
   "outputs": [],
   "source": []
  },
  {
   "cell_type": "code",
   "execution_count": null,
   "metadata": {},
   "outputs": [],
   "source": []
  },
  {
   "cell_type": "code",
   "execution_count": null,
   "metadata": {},
   "outputs": [],
   "source": []
  }
 ],
 "metadata": {
  "kernelspec": {
   "display_name": "Python 3",
   "language": "python",
   "name": "python3"
  },
  "language_info": {
   "codemirror_mode": {
    "name": "ipython",
    "version": 3
   },
   "file_extension": ".py",
   "mimetype": "text/x-python",
   "name": "python",
   "nbconvert_exporter": "python",
   "pygments_lexer": "ipython3",
   "version": "3.8.8"
  },
  "metadata": {
   "interpreter": {
    "hash": "df5ed6baa2ebfe4fab588706631042a02b73d39fd3c027204e921be32b17ef71"
   }
  }
 },
 "nbformat": 4,
 "nbformat_minor": 2
}
